{
 "cells": [
  {
   "cell_type": "markdown",
   "id": "modern-breakfast",
   "metadata": {},
   "source": [
    "# Validation of the 3th, 4th and 6th Order VBR SynGen with Exciter against PSAT"
   ]
  },
  {
   "cell_type": "markdown",
   "id": "adapted-vacuum",
   "metadata": {},
   "source": [
    "## Run C++ examples"
   ]
  },
  {
   "cell_type": "code",
   "execution_count": null,
   "id": "floating-webster",
   "metadata": {},
   "outputs": [],
   "source": [
    "import os\n",
    "import subprocess\n",
    "\n",
    "#%matplotlib widget\n",
    "\n",
    "name = 'SP_ReducedOrderSG_SMIB_Fault'\n",
    "options = ['SGModel=3', 'SGModel=4', 'SGModel=6', 'SGModel=7']\n",
    "\n",
    "dpsim_path = subprocess.Popen(['git', 'rev-parse', '--show-toplevel'], stdout=subprocess.PIPE).communicate()[0].rstrip().decode('utf-8')\n",
    "\n",
    "path_exec = dpsim_path + '/build/Examples/Cxx/'\n",
    "for i in range(len(options)):\n",
    "    sim = subprocess.Popen([path_exec + name, '-o', options[i], '-oWithExciter=true', '-oFinalTime=10'], stdout=subprocess.PIPE, stderr=subprocess.STDOUT)\n",
    "    print(sim.communicate()[0].decode())\n"
   ]
  },
  {
   "cell_type": "markdown",
   "id": "worth-welding",
   "metadata": {},
   "source": [
    "## Load DPSIM Results"
   ]
  },
  {
   "cell_type": "code",
   "execution_count": null,
   "id": "satisfied-bernard",
   "metadata": {},
   "outputs": [],
   "source": [
    "from villas.dataprocessing.readtools import *\n",
    "from villas.dataprocessing.timeseries import *\n",
    "import matplotlib.pyplot as plt\n",
    "import re\n",
    "import numpy as np\n",
    "import math\n",
    "import os\n",
    "\n",
    "work_dir = os.getcwd() + \"/logs/\"\n",
    "file_name_3Order = 'SP_SynGen3OrderVBR_SMIB_Fault'\n",
    "file_name_4Order = 'SP_SynGen4OrderVBR_SMIB_Fault'\n",
    "file_name_6aOrder = 'SP_SynGen6aOrderVBR_SMIB_Fault'\n",
    "file_name_6bOrder = 'SP_SynGen6bOrderVBR_SMIB_Fault'\n",
    "\n",
    "\n",
    "path_logfile = work_dir + file_name_3Order + \"/\" + file_name_3Order + \".csv\"\n",
    "ts_dpsim_3Order = read_timeseries_dpsim(path_logfile)\n",
    "\n",
    "path_logfile = work_dir + file_name_4Order + \"/\" + file_name_4Order + \".csv\"\n",
    "ts_dpsim_4Order = read_timeseries_dpsim(path_logfile)\n",
    "\n",
    "path_logfile = work_dir + file_name_6aOrder + \"/\" + file_name_6aOrder + \".csv\"\n",
    "ts_dpsim_6aOrder = read_timeseries_dpsim(path_logfile)\n",
    "\n",
    "path_logfile = work_dir + file_name_6bOrder + \"/\" + file_name_6bOrder + \".csv\"\n",
    "ts_dpsim_6bOrder = read_timeseries_dpsim(path_logfile)"
   ]
  },
  {
   "cell_type": "markdown",
   "id": "consecutive-auction",
   "metadata": {},
   "source": [
    "## Load PSAT Results"
   ]
  },
  {
   "cell_type": "code",
   "execution_count": null,
   "id": "unauthorized-arbitration",
   "metadata": {},
   "outputs": [],
   "source": [
    "import urllib.request\n",
    "\n",
    "if not os.path.exists('reference-results'):\n",
    "    os.mkdir('reference-results')\n",
    "\n",
    "url = 'https://git.rwth-aachen.de/acs/public/simulation/reference-results/-/raw/cf31ebc99993b3dd98a8073a60654e7a10182772/PSAT/SMIB-Fault/PSAT_3OrderSyGen_withExciter_SMIB_Fault_100mS_TS_1mS.txt'\n",
    "local_file_3Order = 'reference-results/PSAT_3OrderSyGen_withExciter_SMIB_Fault_100mS_TS_1mS.out'\n",
    "urllib.request.urlretrieve(url, local_file_3Order) \n",
    "ts_psat_3Order = read_timeseries_dpsim(local_file_3Order)\n",
    "\n",
    "url = 'https://git.rwth-aachen.de/acs/public/simulation/reference-results/-/raw/master/PSAT/SMIB-Fault/PSAT_4OrderSyGen_withExciter_SMIB_Fault_100mS_TS_1mS.txt'\n",
    "local_file_4Order = 'reference-results/PSAT_4OrderSyGen_withExciter_SMIB_Fault_100mS_TS_1mS.out'\n",
    "urllib.request.urlretrieve(url, local_file_4Order)\n",
    "ts_psat_4Order = read_timeseries_dpsim(local_file_4Order)\n",
    "\n",
    "url = 'https://git.rwth-aachen.de/acs/public/simulation/reference-results/-/raw/master/PSAT/SMIB-Fault/PSAT_6OrderSyGen_withExciter_SMIB_Fault_100mS_TS_1mS.txt'\n",
    "local_file_6Order = 'reference-results/PSAT_6OrderSyGen_withExciter_SMIB_Fault_100mS_TS_1mS.out'\n",
    "urllib.request.urlretrieve(url, local_file_6Order)\n",
    "ts_psat_6Order = read_timeseries_dpsim(local_file_6Order)"
   ]
  },
  {
   "cell_type": "markdown",
   "id": "processed-bacteria",
   "metadata": {},
   "source": [
    "## Calculate $V_d$, $V_q$, $I_d$ and $I_q$ in PSAT"
   ]
  },
  {
   "cell_type": "markdown",
   "id": "productive-scholarship",
   "metadata": {},
   "source": [
    "### 3th Order Model"
   ]
  },
  {
   "cell_type": "code",
   "execution_count": null,
   "id": "retired-trail",
   "metadata": {},
   "outputs": [],
   "source": [
    "#calculate vd and vq\n",
    "angle = ts_psat_3Order['delta'].values - ts_psat_3Order['theta_bus1'].values\n",
    "V_bus1 = ts_psat_3Order['V_Bus1'].values\n",
    "vd = V_bus1 * np.sin(angle)\n",
    "ts_psat_3Order['vd'] = TimeSeries('vd', ts_psat_3Order['V_Bus1'].time, vd)\n",
    "vq = V_bus1 * np.cos(angle)\n",
    "ts_psat_3Order['vq'] = TimeSeries('vq', ts_psat_3Order['V_Bus1'].time, vq)\n",
    "\n",
    "#calculate id and iq in PSAT\n",
    "Xd_t = 0.299900\n",
    "Xq = 1.7600\n",
    "i_d = (ts_psat_3Order['eq_t'].values - ts_psat_3Order['vq'].values) / Xd_t\n",
    "ts_psat_3Order['id'] = TimeSeries('id', ts_psat_3Order['eq_t'].time, i_d)\n",
    "i_q = ts_psat_3Order['vd'].values / Xq\n",
    "ts_psat_3Order['iq'] = TimeSeries('iq', ts_psat_3Order['vd'].time, i_q)"
   ]
  },
  {
   "cell_type": "markdown",
   "id": "vietnamese-virginia",
   "metadata": {},
   "source": [
    "### 4th Order Model"
   ]
  },
  {
   "cell_type": "code",
   "execution_count": null,
   "id": "hydraulic-shore",
   "metadata": {},
   "outputs": [],
   "source": [
    "#calculate vd and vq\n",
    "angle = ts_psat_4Order['delta'].values - ts_psat_4Order['theta_bus1'].values\n",
    "V_bus1 = ts_psat_4Order['V_Bus1'].values\n",
    "vd = V_bus1 * np.sin(angle)\n",
    "ts_psat_4Order['vd'] = TimeSeries('vd', ts_psat_4Order['V_Bus1'].time, vd)\n",
    "vq = V_bus1 * np.cos(angle)\n",
    "ts_psat_4Order['vq'] = TimeSeries('vq', ts_psat_4Order['V_Bus1'].time, vq)\n",
    "    \n",
    "#calculate id and iq in PSAT\n",
    "Xd = 0.299900\n",
    "Xq = 0.650000\n",
    "i_d = (ts_psat_4Order['eq_t'].values - ts_psat_4Order['vq'].values) / Xd\n",
    "ts_psat_4Order['id'] = TimeSeries('id', ts_psat_4Order['eq_t'].time, i_d)\n",
    "i_q = -(ts_psat_4Order['ed_t'].values - ts_psat_4Order['vd'].values) / Xq\n",
    "ts_psat_4Order['iq'] = TimeSeries('iq', ts_psat_4Order['ed_t'].time, i_q)"
   ]
  },
  {
   "cell_type": "markdown",
   "id": "offshore-product",
   "metadata": {},
   "source": [
    "### 6th Order Model (Marconato's model)"
   ]
  },
  {
   "cell_type": "code",
   "execution_count": null,
   "id": "popular-stack",
   "metadata": {},
   "outputs": [],
   "source": [
    "#calculate vd and vq\n",
    "angle = ts_psat_6Order['delta'].values - ts_psat_6Order['theta_bus1'].values\n",
    "V_bus1 = ts_psat_6Order['V_Bus1'].values\n",
    "vd = V_bus1 * np.sin(angle)\n",
    "ts_psat_6Order['vd'] = TimeSeries('vd', ts_psat_6Order['V_Bus1'].time, vd)\n",
    "vq = V_bus1 * np.cos(angle)\n",
    "ts_psat_6Order['vq'] = TimeSeries('vq', ts_psat_6Order['V_Bus1'].time, vq)\n",
    "\n",
    "#calculate id and iq in PSAT\\n\",\n",
    "Xd_s = 0.2299\n",
    "Xq_s = 0.2500\n",
    "i_d = (ts_psat_6Order['eq_s'].values - ts_psat_6Order['vq'].values) / Xd_s\n",
    "ts_psat_6Order['id'] = TimeSeries('id', ts_psat_6Order['eq_s'].time, i_d)\n",
    "i_q = -(ts_psat_6Order['ed_s'].values - ts_psat_6Order['vd'].values) / Xq_s\n",
    "ts_psat_6Order['iq'] = TimeSeries('iq', ts_psat_6Order['ed_s'].time, i_q)"
   ]
  },
  {
   "cell_type": "markdown",
   "id": "funded-artist",
   "metadata": {},
   "source": [
    "## Nominal values"
   ]
  },
  {
   "cell_type": "code",
   "execution_count": null,
   "id": "adult-working",
   "metadata": {
    "tags": []
   },
   "outputs": [],
   "source": [
    "#nominal values (per unit)\n",
    "nominal_values = {}\n",
    "nominal_values['Etorque'] = 0.540541\n",
    "nominal_values['Edq0_0'] = 0.403062     #4th order model\n",
    "nominal_values['Edq0_1'] = 0.944802     #3th and 4th order model\n",
    "nominal_values['Edq0_t_0'] = 0.392200   #6 order model\n",
    "nominal_values['Edq0_t_1'] = 0.946405   #6 order model\n",
    "nominal_values['Edq0_s_0'] = 0.548309   #6 order model\n",
    "nominal_values['Edq0_s_1'] = 0.918731   #6 order model\n",
    "nominal_values['Vdq0_0'] = 0.639089\n",
    "nominal_values['Vdq0_1'] = 0.833106\n",
    "nominal_values['Idq0_0'] = 0.372443\n",
    "nominal_values['Idq0_1'] = 0.363119\n",
    "nominal_values['delta'] = 0.909230\n",
    "nominal_values['w_r'] = 1.0\n",
    "nominal_values['Vf'] = 1.507191\n",
    "nominal_values['Vm'] = 1.05\n",
    "nominal_values['Vr'] = 0.5127179\n",
    "nominal_values['Vis'] = -0.1507191\n",
    "\n",
    "nominal_grid_voltage = 24e3\n",
    "\n",
    "#\n",
    "titles = {}\n",
    "titles['Etorque'] = 'Electrical Torque'\n",
    "titles['Edq0_0'] = 'd-component of the voltage behind the transient reactance'\n",
    "titles['Edq0_1'] = 'q-component of the voltage behind the transient reactance'\n",
    "titles['Edq0_t_0'] = 'd-component of the voltage behind the transient reactance'\n",
    "titles['Edq0_t_1'] = 'd-component of the voltage behind the transient reactance'\n",
    "titles['Edq0_s_0'] = 'd-component of the voltage behind the sub-transient reactance'\n",
    "titles['Edq0_s_1'] = 'd-component of the voltage behind the sub-transient reactance'\n",
    "titles['Vdq0_0'] = 'd-component of the terminal voltage'\n",
    "titles['Vdq0_1'] = 'q-component of the terminal voltage'\n",
    "titles['Idq0_0'] = 'd-component of the terminal current'\n",
    "titles['Idq0_1'] = 'q-component of the terminal current'\n",
    "titles['delta'] = 'Delta'\n",
    "titles['w_r'] = 'Mechanical Omega'\n",
    "titles['Vf'] = 'Field Voltage'\n",
    "titles['Vm'] = 'Output of voltage transducer'\n",
    "titles['Vr'] = 'Regulator output'\n",
    "titles['Vis'] = 'Output of stablizing feedback'\n",
    "\n",
    "#\n",
    "ylabels = {}\n",
    "ylabels['Etorque'] = 'Torque (p.u.)'\n",
    "ylabels['Edq0_0'] = 'Ed_t (p.u.)'\n",
    "ylabels['Edq0_1'] = 'Eq_t (p.u.)'\n",
    "ylabels['Edq0_t_0'] = 'Ed_t (p.u.)'\n",
    "ylabels['Edq0_t_1'] = 'Eq_t (p.u.)'\n",
    "ylabels['Edq0_s_0'] = 'Ed_s (p.u.)'\n",
    "ylabels['Edq0_s_1'] = 'Eq_s (p.u.)'\n",
    "ylabels['Vdq0_0'] = 'Vd (p.u.)'\n",
    "ylabels['Vdq0_1'] = 'Vq (p.u.)'\n",
    "ylabels['Idq0_0'] = 'Id (p.u.)'\n",
    "ylabels['Idq0_1'] = 'Iq (p.u.)'\n",
    "ylabels['delta'] = 'Delta (rad)'\n",
    "ylabels['w_r'] = 'w_r (p.u.)'\n",
    "ylabels['Vf'] = 'vf (p.u.)'\n",
    "ylabels['Vm'] = 'Vm (p.u.)'\n",
    "ylabels['Vr'] = 'Vr (p.u.)'\n",
    "ylabels['Vis'] = 'Vr2 (p.u.)'"
   ]
  },
  {
   "cell_type": "markdown",
   "id": "preliminary-warrior",
   "metadata": {},
   "source": [
    "## Declare plot function"
   ]
  },
  {
   "cell_type": "code",
   "execution_count": null,
   "id": "sensitive-implementation",
   "metadata": {},
   "outputs": [],
   "source": [
    "timestep_common = 10e-6\n",
    "t_begin=0\n",
    "t_end=20\n",
    "begin_idx = int(t_begin/timestep_common)\n",
    "end_idx= int(t_end/timestep_common)\n",
    "\n",
    "#plot Results\n",
    "width = 12\n",
    "height = 4\n",
    "\n",
    "def plot_variable(title, varname_dpsim, varname_psat, ts_dpsim, ts_psat, nominal_values, ylabels):\n",
    "    fig1 = plt.figure(figsize=(width, height))\n",
    "    plt.plot(ts_dpsim[varname_dpsim].interpolate(timestep_common).time[begin_idx:end_idx], ts_dpsim[varname_dpsim].interpolate(timestep_common).values[begin_idx:end_idx], label='DPSim')\n",
    "    plt.plot(ts_psat[varname_psat].interpolate(timestep_common).time[begin_idx:end_idx], ts_psat[varname_psat].interpolate(timestep_common).values[begin_idx:end_idx], '--', label='PSAT')\n",
    "    #plt.plot(ts_psat_3Order_[varname_psat].interpolate(timestep_common).time[begin_idx:end_idx], ts_psat_3Order_[varname_psat].interpolate(timestep_common).values[begin_idx:end_idx], '--', label='PSAT')\n",
    "    plt.legend(loc='lower right')\n",
    "    plt.xlabel('time (s)')\n",
    "    plt.ylabel(ylabels[varname_dpsim])\n",
    "    plt.grid()\n",
    "    plt.xlim([0, 10])\n",
    "    plt.show\n",
    "    \n",
    "    #calculate RMSE\n",
    "    nom_value = nominal_values[varname_dpsim]\n",
    "    rmse = ts_dpsim[varname_dpsim].rmse(ts_dpsim[varname_dpsim].interpolate(timestep_common), ts_psat[varname_psat].interpolate(timestep_common))\n",
    "    print('RMSE {:s}  = {:.6f} (pu), which is {:.3f}% of the nominal value = {:.3f} (pu) '.format(varname_dpsim, rmse, rmse/nom_value*100, nom_value))\n",
    "        \n",
    "    return rmse/nom_value*100\n",
    "\n",
    "def plot_node_volt_abs(varname_dpsim, varname_psat, ts_dpsim, ts_psat, nominal_voltage, ylabels):\n",
    "    \n",
    "    #convert dpsim voltage to magnitude value and per-unit for comparison with psat\n",
    "    ts_dpsim_abs_pu = TimeSeries(varname_dpsim+'_abs_pu', ts_dpsim[varname_dpsim].interpolate(timestep_common).time, ts_dpsim[varname_dpsim].interpolate(timestep_common).abs().values/nominal_voltage)\n",
    "    \n",
    "    fig1 = plt.figure(figsize=(width, height))\n",
    "    plt.plot(ts_dpsim_abs_pu.time[begin_idx:end_idx], ts_dpsim_abs_pu.values[begin_idx:end_idx], label='DPSim')\n",
    "    plt.plot(ts_psat[varname_psat].interpolate(timestep_common).time[begin_idx:end_idx], ts_psat[varname_psat].interpolate(timestep_common).values[begin_idx:end_idx], '--', label='PSAT')\n",
    "    plt.legend(loc='lower right')\n",
    "    plt.xlabel('time (s)')\n",
    "    plt.show\n",
    "      \n",
    "     #calculate RMSE\n",
    "    rmse = ts_dpsim[varname_dpsim].rmse(ts_dpsim_abs_pu, ts_psat[varname_psat].interpolate(timestep_common))\n",
    "    print('RMSE {:s}  = {:.6f} (pu), which is {:.3f}% of the nominal value = {:.3f} (pu) '.format(varname_dpsim, rmse, rmse/1.0*100, 1.0))\n",
    "        \n",
    "    return rmse/1.0*100\n",
    "\n",
    "\n",
    "def plot_node_volt_angle(varname_dpsim, varname_psat, ts_dpsim, ts_psat, nominal_voltage, ylabels):\n",
    "    #limit rmse to post-fault evaluation\n",
    "    t_post_begin=1.1\n",
    "    t_post_end=20\n",
    "    begin_post_idx = int(t_post_begin/timestep_common)\n",
    "    end_post_idx= int(t_post_end/timestep_common)\n",
    "    \n",
    "    #convert psat angle to deg and in range from\n",
    "    ts_psat_deg = TimeSeries(varname_psat+'_deg', ts_psat[varname_psat].interpolate(timestep_common).time, ts_psat[varname_psat].interpolate(timestep_common).values/np.pi*180)\n",
    "        \n",
    "    fig2 = plt.figure(figsize=(width, height))\n",
    "    plt.plot(ts_dpsim[varname_dpsim].interpolate(timestep_common).time[begin_idx:end_idx], ts_dpsim[varname_dpsim].interpolate(timestep_common).phase().values[begin_idx:end_idx], label='DPSim')\n",
    "    plt.plot(ts_psat_deg.time[begin_idx:end_idx], ts_psat_deg.values[begin_idx:end_idx], '--', label='PSAT')\n",
    "    plt.legend(loc='lower right')\n",
    "    plt.xlabel('time (s)')\n",
    "    plt.show\n",
    "    \n",
    "     #calculate RMSE\n",
    "    ts_dpsim_deg_post = TimeSeries(varname_dpsim+'_deg_post', ts_dpsim[varname_dpsim].interpolate(timestep_common).time[begin_post_idx:end_post_idx], ts_dpsim[varname_dpsim].interpolate(timestep_common).phase().values[begin_post_idx:end_post_idx])\n",
    "    ts_psat_deg_post = TimeSeries(varname_psat+'_deg_post', ts_psat_deg.time[begin_post_idx:end_post_idx], ts_psat_deg.values[begin_post_idx:end_post_idx])\n",
    "    rmse = ts_dpsim[varname_dpsim].rmse(ts_dpsim_deg_post, ts_psat_deg_post)\n",
    "    print('RMSE Post-Fault {:s}  = {:.6f} (deg)'.format(varname_dpsim, rmse))\n",
    "        \n",
    "    return rmse"
   ]
  },
  {
   "cell_type": "markdown",
   "id": "focused-academy",
   "metadata": {},
   "source": [
    "# Validation 3th Order Model"
   ]
  },
  {
   "cell_type": "markdown",
   "id": "turned-society",
   "metadata": {},
   "source": [
    "### Electrical Torque"
   ]
  },
  {
   "cell_type": "code",
   "execution_count": null,
   "id": "final-sharp",
   "metadata": {},
   "outputs": [],
   "source": [
    "varname_dpsim = \"Etorque\"\n",
    "varname_psat = \"p\"\n",
    "\n",
    "rmse_torque = plot_variable(titles, varname_dpsim, varname_psat, ts_dpsim_3Order, ts_psat_3Order, nominal_values, ylabels)"
   ]
  },
  {
   "cell_type": "markdown",
   "id": "thousand-discount",
   "metadata": {},
   "source": [
    "### Field Voltage"
   ]
  },
  {
   "cell_type": "code",
   "execution_count": null,
   "id": "engaging-uzbekistan",
   "metadata": {},
   "outputs": [],
   "source": [
    "varname_dpsim = \"Vf\"\n",
    "varname_psat = \"vf\"\n",
    "\n",
    "rmse_vf = plot_variable(titles, varname_dpsim, varname_psat, ts_dpsim_3Order, ts_psat_3Order, nominal_values, ylabels)"
   ]
  },
  {
   "cell_type": "markdown",
   "id": "skilled-sharp",
   "metadata": {},
   "source": [
    "### $E_q^{'}$"
   ]
  },
  {
   "cell_type": "code",
   "execution_count": null,
   "id": "continent-drama",
   "metadata": {},
   "outputs": [],
   "source": [
    "varname_dpsim = \"Edq0_1\"\n",
    "varname_psat = \"eq_t\"\n",
    "\n",
    "rmse_eq = plot_variable(titles, varname_dpsim, varname_psat, ts_dpsim_3Order, ts_psat_3Order, nominal_values, ylabels)"
   ]
  },
  {
   "cell_type": "markdown",
   "id": "seven-index",
   "metadata": {},
   "source": [
    "### $V_d$"
   ]
  },
  {
   "cell_type": "code",
   "execution_count": null,
   "id": "tired-compact",
   "metadata": {},
   "outputs": [],
   "source": [
    "varname_dpsim = \"Vdq0_0\"\n",
    "varname_psat = \"vd\"\n",
    "\n",
    "rmse_vd = plot_variable(titles, varname_dpsim, varname_psat, ts_dpsim_3Order, ts_psat_3Order, nominal_values, ylabels)"
   ]
  },
  {
   "cell_type": "markdown",
   "id": "destroyed-steering",
   "metadata": {},
   "source": [
    "### $V_q$"
   ]
  },
  {
   "cell_type": "code",
   "execution_count": null,
   "id": "metric-vitamin",
   "metadata": {},
   "outputs": [],
   "source": [
    "varname_dpsim = \"Vdq0_1\"\n",
    "varname_psat = \"vq\"\n",
    "\n",
    "rmse_vq = plot_variable(titles, varname_dpsim, varname_psat, ts_dpsim_3Order, ts_psat_3Order, nominal_values, ylabels)"
   ]
  },
  {
   "cell_type": "markdown",
   "id": "exciting-graduate",
   "metadata": {},
   "source": [
    "### $I_d$"
   ]
  },
  {
   "cell_type": "code",
   "execution_count": null,
   "id": "disabled-settlement",
   "metadata": {},
   "outputs": [],
   "source": [
    "varname_dpsim = \"Idq0_0\"\n",
    "varname_psat = \"id\"\n",
    "\n",
    "rmse_id = plot_variable(titles, varname_dpsim, varname_psat, ts_dpsim_3Order, ts_psat_3Order, nominal_values, ylabels)\n",
    "#plt.plot(ts_dpsim_3Order[varname_dpsim].interpolate(timestep_common).time[begin_idx:end_idx], ts_psat_3Order[varname_psat].interpolate(timestep_common).values[begin_idx:end_idx]- ts_dpsim_3Order[varname_dpsim].interpolate(timestep_common).values[begin_idx:end_idx])\n",
    "#plt.ylim([0, 0.02])"
   ]
  },
  {
   "cell_type": "markdown",
   "id": "collectible-density",
   "metadata": {},
   "source": [
    "### $I_q$"
   ]
  },
  {
   "cell_type": "code",
   "execution_count": null,
   "id": "recent-exposure",
   "metadata": {},
   "outputs": [],
   "source": [
    "varname_dpsim = \"Idq0_1\"\n",
    "varname_psat = \"iq\"\n",
    "\n",
    "rmse_iq = plot_variable(titles, varname_dpsim, varname_psat, ts_dpsim_3Order, ts_psat_3Order, nominal_values, ylabels)"
   ]
  },
  {
   "cell_type": "markdown",
   "id": "virtual-aggregate",
   "metadata": {},
   "source": [
    "### Delta"
   ]
  },
  {
   "cell_type": "code",
   "execution_count": null,
   "id": "considered-racing",
   "metadata": {},
   "outputs": [],
   "source": [
    "varname_dpsim = \"delta\"\n",
    "varname_psat = \"delta\"\n",
    "\n",
    "rmse_delta = plot_variable(titles, varname_dpsim, varname_psat, ts_dpsim_3Order, ts_psat_3Order, nominal_values, ylabels)"
   ]
  },
  {
   "cell_type": "markdown",
   "id": "spare-wrist",
   "metadata": {},
   "source": [
    "### Mechanical Omega"
   ]
  },
  {
   "cell_type": "code",
   "execution_count": null,
   "id": "available-wound",
   "metadata": {},
   "outputs": [],
   "source": [
    "varname_dpsim = \"w_r\"\n",
    "varname_psat = \"omega\"\n",
    "\n",
    "rmse_omega = plot_variable(titles, varname_dpsim, varname_psat, ts_dpsim_3Order, ts_psat_3Order, nominal_values, ylabels)"
   ]
  },
  {
   "cell_type": "markdown",
   "id": "responsible-democrat",
   "metadata": {},
   "source": [
    "## Grid voltages"
   ]
  },
  {
   "cell_type": "code",
   "execution_count": null,
   "id": "breathing-synthetic",
   "metadata": {},
   "outputs": [],
   "source": [
    "varname_dpsim = \"v1\"\n",
    "varname_psat = \"V_Bus1\"\n",
    "\n",
    "rmse_v1_abs = plot_node_volt_abs(varname_dpsim, varname_psat, ts_dpsim_3Order, ts_psat_3Order, nominal_grid_voltage, ylabels)"
   ]
  },
  {
   "cell_type": "code",
   "execution_count": null,
   "id": "reflected-bolivia",
   "metadata": {},
   "outputs": [],
   "source": [
    "varname_dpsim = \"v1\"\n",
    "varname_psat = \"theta_bus1\"\n",
    "\n",
    "rmse_v1_angle = plot_node_volt_angle(varname_dpsim, varname_psat, ts_dpsim_3Order, ts_psat_3Order, nominal_grid_voltage, ylabels)"
   ]
  },
  {
   "cell_type": "code",
   "execution_count": null,
   "id": "every-stupid",
   "metadata": {},
   "outputs": [],
   "source": [
    "varname_dpsim = \"v2\"\n",
    "varname_psat = \"V_Bus3\"\n",
    "\n",
    "rmse_v2_abs = plot_node_volt_abs(varname_dpsim, varname_psat, ts_dpsim_3Order, ts_psat_3Order, nominal_grid_voltage, ylabels)"
   ]
  },
  {
   "cell_type": "code",
   "execution_count": null,
   "id": "comic-potential",
   "metadata": {},
   "outputs": [],
   "source": [
    "varname_dpsim = \"v2\"\n",
    "varname_psat = \"theta_bus3\"\n",
    "\n",
    "rmse_v2_angle = plot_node_volt_angle(varname_dpsim, varname_psat, ts_dpsim_3Order, ts_psat_3Order, nominal_grid_voltage, ylabels)"
   ]
  },
  {
   "cell_type": "markdown",
   "id": "regular-murder",
   "metadata": {},
   "source": [
    "### Assert"
   ]
  },
  {
   "cell_type": "code",
   "execution_count": null,
   "id": "pretty-conducting",
   "metadata": {},
   "outputs": [],
   "source": [
    "tol = 1.5 # %\n",
    "tol_id = 7 # %\n",
    "tol_deg_v1 = 0.2 # deg\n",
    "tol_deg_v2 = 1e-12 # deg\n",
    "\n",
    "assert(rmse_torque<tol)\n",
    "assert(rmse_vf<tol)\n",
    "assert(rmse_eq<tol)\n",
    "assert(rmse_vd<tol)\n",
    "assert(rmse_vq<tol)\n",
    "assert(rmse_id<tol_id)\n",
    "assert(rmse_iq<tol)\n",
    "assert(rmse_delta<tol)\n",
    "assert(rmse_omega<tol)\n",
    "assert(rmse_v1_abs<tol)\n",
    "assert(rmse_v2_abs<tol)\n",
    "#assert(rmse_v1_angle<tol_deg_v1)\n",
    "assert(rmse_v2_angle<tol_deg_v2)"
   ]
  },
  {
   "cell_type": "markdown",
   "id": "framed-policy",
   "metadata": {},
   "source": [
    "# Validation 4th Order Model"
   ]
  },
  {
   "cell_type": "markdown",
   "id": "painted-highway",
   "metadata": {},
   "source": [
    "### Electrical Torque"
   ]
  },
  {
   "cell_type": "code",
   "execution_count": null,
   "id": "atmospheric-citizen",
   "metadata": {},
   "outputs": [],
   "source": [
    "varname_dpsim = \"Etorque\"\n",
    "varname_psat = \"p\"\n",
    "\n",
    "rmse_torque = plot_variable(titles, varname_dpsim, varname_psat, ts_dpsim_4Order, ts_psat_4Order, nominal_values, ylabels)"
   ]
  },
  {
   "cell_type": "markdown",
   "id": "linear-bridal",
   "metadata": {},
   "source": [
    "### Field voltage"
   ]
  },
  {
   "cell_type": "code",
   "execution_count": null,
   "id": "norman-plain",
   "metadata": {},
   "outputs": [],
   "source": [
    "varname_dpsim = \"Vf\"\n",
    "varname_psat = \"vf\"\n",
    "\n",
    "rmse_vf = plot_variable(titles, varname_dpsim, varname_psat, ts_dpsim_4Order, ts_psat_4Order, nominal_values, ylabels)"
   ]
  },
  {
   "cell_type": "markdown",
   "id": "beneficial-walker",
   "metadata": {},
   "source": [
    "### $E_d^{'}$"
   ]
  },
  {
   "cell_type": "code",
   "execution_count": null,
   "id": "wooden-winning",
   "metadata": {},
   "outputs": [],
   "source": [
    "varname_dpsim = \"Edq0_0\"\n",
    "varname_psat = \"ed_t\"\n",
    "\n",
    "rmse_ed = plot_variable(titles, varname_dpsim, varname_psat, ts_dpsim_4Order, ts_psat_4Order, nominal_values, ylabels)"
   ]
  },
  {
   "cell_type": "markdown",
   "id": "variable-license",
   "metadata": {},
   "source": [
    "### $E_q^{'}$"
   ]
  },
  {
   "cell_type": "code",
   "execution_count": null,
   "id": "concerned-ghana",
   "metadata": {},
   "outputs": [],
   "source": [
    "varname_dpsim = \"Edq0_1\"\n",
    "varname_psat = \"eq_t\"\n",
    "\n",
    "rmse_eq = plot_variable(titles, varname_dpsim, varname_psat, ts_dpsim_4Order, ts_psat_4Order, nominal_values, ylabels)"
   ]
  },
  {
   "cell_type": "markdown",
   "id": "middle-particle",
   "metadata": {},
   "source": [
    "### $V_d$"
   ]
  },
  {
   "cell_type": "code",
   "execution_count": null,
   "id": "applied-campus",
   "metadata": {},
   "outputs": [],
   "source": [
    "varname_dpsim = \"Vdq0_0\"\n",
    "varname_psat = \"vd\"\n",
    "\n",
    "rmse_vd = plot_variable(titles, varname_dpsim, varname_psat, ts_dpsim_4Order, ts_psat_4Order, nominal_values, ylabels)"
   ]
  },
  {
   "cell_type": "markdown",
   "id": "dried-daisy",
   "metadata": {},
   "source": [
    "### $V_q$"
   ]
  },
  {
   "cell_type": "code",
   "execution_count": null,
   "id": "considerable-oliver",
   "metadata": {},
   "outputs": [],
   "source": [
    "varname_dpsim = \"Vdq0_1\"\n",
    "varname_psat = \"vq\"\n",
    "\n",
    "rmse_vq = plot_variable(titles, varname_dpsim, varname_psat, ts_dpsim_4Order, ts_psat_4Order, nominal_values, ylabels)"
   ]
  },
  {
   "cell_type": "markdown",
   "id": "retired-archive",
   "metadata": {},
   "source": [
    "### $I_d$"
   ]
  },
  {
   "cell_type": "code",
   "execution_count": null,
   "id": "trained-secretariat",
   "metadata": {},
   "outputs": [],
   "source": [
    "varname_dpsim = \"Idq0_0\"\n",
    "varname_psat = \"id\"\n",
    "\n",
    "rmse_id = plot_variable(titles, varname_dpsim, varname_psat, ts_dpsim_4Order, ts_psat_4Order, nominal_values, ylabels)"
   ]
  },
  {
   "cell_type": "markdown",
   "id": "latin-vietnam",
   "metadata": {},
   "source": [
    "### $I_q$"
   ]
  },
  {
   "cell_type": "code",
   "execution_count": null,
   "id": "infrared-sunday",
   "metadata": {},
   "outputs": [],
   "source": [
    "varname_dpsim = \"Vdq0_1\"\n",
    "varname_psat = \"vq\"\n",
    "\n",
    "rmse_iq = plot_variable(titles, varname_dpsim, varname_psat, ts_dpsim_4Order, ts_psat_4Order, nominal_values, ylabels)"
   ]
  },
  {
   "cell_type": "markdown",
   "id": "offshore-sociology",
   "metadata": {},
   "source": [
    "### Delta"
   ]
  },
  {
   "cell_type": "code",
   "execution_count": null,
   "id": "given-equality",
   "metadata": {},
   "outputs": [],
   "source": [
    "varname_dpsim = \"delta\"\n",
    "varname_psat = \"delta\"\n",
    "\n",
    "rmse_delta = plot_variable(titles, varname_dpsim, varname_psat, ts_dpsim_4Order, ts_psat_4Order, nominal_values, ylabels)"
   ]
  },
  {
   "cell_type": "markdown",
   "id": "burning-calculator",
   "metadata": {},
   "source": [
    "### Mechanical Omega"
   ]
  },
  {
   "cell_type": "code",
   "execution_count": null,
   "id": "separate-tokyo",
   "metadata": {},
   "outputs": [],
   "source": [
    "varname_dpsim = \"w_r\"\n",
    "varname_psat = \"omega\"\n",
    "\n",
    "rmse_omega = plot_variable(titles, varname_dpsim, varname_psat, ts_dpsim_4Order, ts_psat_4Order, nominal_values, ylabels)"
   ]
  },
  {
   "cell_type": "markdown",
   "id": "standard-invitation",
   "metadata": {},
   "source": [
    "## Grid voltages"
   ]
  },
  {
   "cell_type": "code",
   "execution_count": null,
   "id": "primary-glucose",
   "metadata": {},
   "outputs": [],
   "source": [
    "varname_dpsim = \"v1\"\n",
    "varname_psat = \"V_Bus1\"\n",
    "\n",
    "rmse_v1_abs = plot_node_volt_abs(varname_dpsim, varname_psat, ts_dpsim_4Order, ts_psat_4Order, nominal_grid_voltage, ylabels)"
   ]
  },
  {
   "cell_type": "code",
   "execution_count": null,
   "id": "ancient-emission",
   "metadata": {},
   "outputs": [],
   "source": [
    "varname_dpsim = \"v1\"\n",
    "varname_psat = \"theta_bus1\"\n",
    "\n",
    "rmse_v1_angle = plot_node_volt_angle(varname_dpsim, varname_psat, ts_dpsim_4Order, ts_psat_4Order, nominal_grid_voltage, ylabels)"
   ]
  },
  {
   "cell_type": "code",
   "execution_count": null,
   "id": "representative-george",
   "metadata": {},
   "outputs": [],
   "source": [
    "varname_dpsim = \"v2\"\n",
    "varname_psat = \"V_Bus3\"\n",
    "\n",
    "rmse_v2_abs = plot_node_volt_abs(varname_dpsim, varname_psat, ts_dpsim_4Order, ts_psat_4Order, nominal_grid_voltage, ylabels)"
   ]
  },
  {
   "cell_type": "code",
   "execution_count": null,
   "id": "equivalent-leisure",
   "metadata": {},
   "outputs": [],
   "source": [
    "varname_dpsim = \"v2\"\n",
    "varname_psat = \"theta_bus3\"\n",
    "\n",
    "rmse_v2_angle = plot_node_volt_angle(varname_dpsim, varname_psat, ts_dpsim_4Order, ts_psat_4Order, nominal_grid_voltage, ylabels)"
   ]
  },
  {
   "cell_type": "markdown",
   "id": "removed-testimony",
   "metadata": {},
   "source": [
    "### Assert"
   ]
  },
  {
   "cell_type": "code",
   "execution_count": null,
   "id": "likely-jersey",
   "metadata": {},
   "outputs": [],
   "source": [
    "tol = 1 # %\n",
    "tol_id = 6\n",
    "tol_deg_v1 = 0.02 # deg\n",
    "tol_deg_v2 = 1e-12 # deg\n",
    "\n",
    "assert(rmse_torque<tol)\n",
    "assert(rmse_vf<tol)\n",
    "assert(rmse_ed<tol)\n",
    "assert(rmse_eq<tol)\n",
    "assert(rmse_vd<tol)\n",
    "assert(rmse_vq<tol)\n",
    "assert(rmse_id<tol_id)\n",
    "assert(rmse_iq<tol)\n",
    "assert(rmse_delta<tol)\n",
    "assert(rmse_omega<tol)\n",
    "assert(rmse_v1_abs<tol)\n",
    "assert(rmse_v2_abs<tol)\n",
    "#assert(rmse_v1_angle<tol_deg_v1)\n",
    "assert(rmse_v2_angle<tol_deg_v2)"
   ]
  },
  {
   "cell_type": "markdown",
   "id": "blank-kingdom",
   "metadata": {},
   "source": [
    "# Validation 6th Order Model (Marconato's model)"
   ]
  },
  {
   "cell_type": "markdown",
   "id": "subsequent-fireplace",
   "metadata": {},
   "source": [
    "### Electrical Torque"
   ]
  },
  {
   "cell_type": "code",
   "execution_count": null,
   "id": "executive-applicant",
   "metadata": {},
   "outputs": [],
   "source": [
    "varname_dpsim = \"Etorque\"\n",
    "varname_psat = \"p\"\n",
    "\n",
    "rmse_torque = plot_variable(titles, varname_dpsim, varname_psat, ts_dpsim_6aOrder, ts_psat_6Order, nominal_values, ylabels)"
   ]
  },
  {
   "cell_type": "markdown",
   "id": "earlier-softball",
   "metadata": {},
   "source": [
    "### Field Voltage"
   ]
  },
  {
   "cell_type": "code",
   "execution_count": null,
   "id": "lucky-hudson",
   "metadata": {},
   "outputs": [],
   "source": [
    "varname_dpsim = \"Vf\"\n",
    "varname_psat = \"vf\"\n",
    "\n",
    "rmse_vf = plot_variable(titles, varname_dpsim, varname_psat, ts_dpsim_6aOrder, ts_psat_6Order, nominal_values, ylabels)"
   ]
  },
  {
   "cell_type": "markdown",
   "id": "biblical-wealth",
   "metadata": {},
   "source": [
    "### $E_d^{'}$"
   ]
  },
  {
   "cell_type": "code",
   "execution_count": null,
   "id": "bizarre-thing",
   "metadata": {},
   "outputs": [],
   "source": [
    "varname_dpsim = \"Edq0_t_0\"\n",
    "varname_psat = \"ed_t\"\n",
    "\n",
    "rmse_ed = plot_variable(titles, varname_dpsim, varname_psat, ts_dpsim_6aOrder, ts_psat_6Order, nominal_values, ylabels)"
   ]
  },
  {
   "cell_type": "markdown",
   "id": "designing-counter",
   "metadata": {},
   "source": [
    "### $E_q^{'}$"
   ]
  },
  {
   "cell_type": "code",
   "execution_count": null,
   "id": "plain-lease",
   "metadata": {},
   "outputs": [],
   "source": [
    "varname_dpsim = \"Edq0_t_1\"\n",
    "varname_psat = \"eq_t\"\n",
    "\n",
    "rmse_eq = plot_variable(titles, varname_dpsim, varname_psat, ts_dpsim_6aOrder, ts_psat_6Order, nominal_values, ylabels)"
   ]
  },
  {
   "cell_type": "markdown",
   "id": "great-activation",
   "metadata": {},
   "source": [
    "### $E_d^{''}$"
   ]
  },
  {
   "cell_type": "code",
   "execution_count": null,
   "id": "fatty-vision",
   "metadata": {},
   "outputs": [],
   "source": [
    "varname_dpsim = \"Edq0_s_0\"\n",
    "varname_psat = \"ed_s\"\n",
    "\n",
    "rmse_ed_s = plot_variable(titles, varname_dpsim, varname_psat, ts_dpsim_6aOrder, ts_psat_6Order, nominal_values, ylabels)"
   ]
  },
  {
   "cell_type": "markdown",
   "id": "pending-limitation",
   "metadata": {},
   "source": [
    "### $E_q^{''}$"
   ]
  },
  {
   "cell_type": "code",
   "execution_count": null,
   "id": "formed-phrase",
   "metadata": {},
   "outputs": [],
   "source": [
    "varname_dpsim = \"Edq0_s_1\"\n",
    "varname_psat = \"eq_s\"\n",
    "\n",
    "rmse_eq_s = plot_variable(titles, varname_dpsim, varname_psat, ts_dpsim_6aOrder, ts_psat_6Order, nominal_values, ylabels)"
   ]
  },
  {
   "cell_type": "markdown",
   "id": "protective-printing",
   "metadata": {},
   "source": [
    "### $V_d$"
   ]
  },
  {
   "cell_type": "code",
   "execution_count": null,
   "id": "constitutional-paintball",
   "metadata": {},
   "outputs": [],
   "source": [
    "varname_dpsim = \"Vdq0_0\"\n",
    "varname_psat = \"vd\"\n",
    "\n",
    "rmse_vd = plot_variable(titles, varname_dpsim, varname_psat, ts_dpsim_6aOrder, ts_psat_6Order, nominal_values, ylabels)"
   ]
  },
  {
   "cell_type": "markdown",
   "id": "korean-alfred",
   "metadata": {},
   "source": [
    "### $V_q$"
   ]
  },
  {
   "cell_type": "code",
   "execution_count": null,
   "id": "written-foundation",
   "metadata": {},
   "outputs": [],
   "source": [
    "varname_dpsim = \"Vdq0_1\"\n",
    "varname_psat = \"vq\"\n",
    "\n",
    "rmse_vq = plot_variable(titles, varname_dpsim, varname_psat, ts_dpsim_6aOrder, ts_psat_6Order, nominal_values, ylabels)"
   ]
  },
  {
   "cell_type": "markdown",
   "id": "southern-postage",
   "metadata": {},
   "source": [
    "### $I_d$"
   ]
  },
  {
   "cell_type": "code",
   "execution_count": null,
   "id": "level-compiler",
   "metadata": {},
   "outputs": [],
   "source": [
    "varname_dpsim = \"Idq0_0\"\n",
    "varname_psat = \"id\"\n",
    "\n",
    "rmse_id = plot_variable(titles, varname_dpsim, varname_psat, ts_dpsim_6aOrder, ts_psat_6Order, nominal_values, ylabels)"
   ]
  },
  {
   "cell_type": "markdown",
   "id": "whole-george",
   "metadata": {},
   "source": [
    "### $I_q$"
   ]
  },
  {
   "cell_type": "code",
   "execution_count": null,
   "id": "treated-roots",
   "metadata": {},
   "outputs": [],
   "source": [
    "varname_dpsim = \"Idq0_1\"\n",
    "varname_psat = \"iq\"\n",
    "\n",
    "rmse_iq = plot_variable(titles, varname_dpsim, varname_psat, ts_dpsim_6aOrder, ts_psat_6Order, nominal_values, ylabels)"
   ]
  },
  {
   "cell_type": "markdown",
   "id": "charged-compound",
   "metadata": {},
   "source": [
    "### Delta"
   ]
  },
  {
   "cell_type": "code",
   "execution_count": null,
   "id": "quantitative-society",
   "metadata": {},
   "outputs": [],
   "source": [
    "varname_dpsim = \"delta\"\n",
    "varname_psat = \"delta\"\n",
    "\n",
    "rmse_delta = plot_variable(titles, varname_dpsim, varname_psat, ts_dpsim_6aOrder, ts_psat_6Order, nominal_values, ylabels)"
   ]
  },
  {
   "cell_type": "markdown",
   "id": "automatic-ethiopia",
   "metadata": {},
   "source": [
    "### Mechanical omega"
   ]
  },
  {
   "cell_type": "code",
   "execution_count": null,
   "id": "sensitive-youth",
   "metadata": {},
   "outputs": [],
   "source": [
    "varname_dpsim = \"w_r\"\n",
    "varname_psat = \"omega\"\n",
    "\n",
    "rmse_omega = plot_variable(titles, varname_dpsim, varname_psat, ts_dpsim_6aOrder, ts_psat_6Order, nominal_values, ylabels)"
   ]
  },
  {
   "cell_type": "markdown",
   "id": "falling-partner",
   "metadata": {},
   "source": [
    "## Grid voltages"
   ]
  },
  {
   "cell_type": "code",
   "execution_count": null,
   "id": "intermediate-nutrition",
   "metadata": {},
   "outputs": [],
   "source": [
    "varname_dpsim = \"v1\"\n",
    "varname_psat = \"V_Bus1\"\n",
    "\n",
    "rmse_v1_abs = plot_node_volt_abs(varname_dpsim, varname_psat, ts_dpsim_6aOrder, ts_psat_6Order, nominal_grid_voltage, ylabels)"
   ]
  },
  {
   "cell_type": "code",
   "execution_count": null,
   "id": "blank-insurance",
   "metadata": {},
   "outputs": [],
   "source": [
    "varname_dpsim = \"v1\"\n",
    "varname_psat = \"theta_bus1\"\n",
    "\n",
    "rmse_v1_angle = plot_node_volt_angle(varname_dpsim, varname_psat, ts_dpsim_6aOrder, ts_psat_6Order, nominal_grid_voltage, ylabels)"
   ]
  },
  {
   "cell_type": "code",
   "execution_count": null,
   "id": "popular-privilege",
   "metadata": {},
   "outputs": [],
   "source": [
    "varname_dpsim = \"v2\"\n",
    "varname_psat = \"V_Bus3\"\n",
    "\n",
    "rmse_v2_abs = plot_node_volt_abs(varname_dpsim, varname_psat, ts_dpsim_6aOrder, ts_psat_6Order, nominal_grid_voltage, ylabels)"
   ]
  },
  {
   "cell_type": "code",
   "execution_count": null,
   "id": "auburn-exposure",
   "metadata": {},
   "outputs": [],
   "source": [
    "varname_dpsim = \"v2\"\n",
    "varname_psat = \"theta_bus3\"\n",
    "\n",
    "rmse_v2_angle = plot_node_volt_angle(varname_dpsim, varname_psat, ts_dpsim_6aOrder, ts_psat_6Order, nominal_grid_voltage, ylabels)"
   ]
  },
  {
   "cell_type": "markdown",
   "id": "loose-christianity",
   "metadata": {},
   "source": [
    "### Assert"
   ]
  },
  {
   "cell_type": "code",
   "execution_count": null,
   "id": "spiritual-champagne",
   "metadata": {},
   "outputs": [],
   "source": [
    "tol = 1.5 #%\n",
    "tol_i = 7.3\n",
    "tol_deg_v1 = 0.1 # deg\n",
    "tol_deg_v2 = 1e-12 # deg\n",
    "\n",
    "assert(rmse_torque<tol)\n",
    "assert(rmse_vf<tol)\n",
    "assert(rmse_ed<tol)\n",
    "assert(rmse_eq<tol)\n",
    "assert(rmse_ed_s<tol)\n",
    "assert(rmse_eq_s<tol)\n",
    "assert(rmse_vd<tol)\n",
    "assert(rmse_vq<tol)\n",
    "assert(rmse_id<tol_i)\n",
    "assert(rmse_iq<tol_i)\n",
    "assert(rmse_delta<tol)\n",
    "assert(rmse_omega<tol)\n",
    "assert(rmse_v1_abs<tol)\n",
    "assert(rmse_v2_abs<tol)\n",
    "#assert(rmse_v1_angle<tol_deg_v1)\n",
    "assert(rmse_v2_angle<tol_deg_v2)"
   ]
  },
  {
   "cell_type": "markdown",
   "id": "decimal-finger",
   "metadata": {},
   "source": [
    "# Validation 6th Order Model (Anderson-Fouad's model)"
   ]
  },
  {
   "cell_type": "markdown",
   "id": "mediterranean-tolerance",
   "metadata": {},
   "source": [
    "### Electrical Torque"
   ]
  },
  {
   "cell_type": "code",
   "execution_count": null,
   "id": "understood-shipping",
   "metadata": {},
   "outputs": [],
   "source": [
    "varname_dpsim = \"Etorque\"\n",
    "varname_psat = \"p\"\n",
    "\n",
    "rmse_torque = plot_variable(titles, varname_dpsim, varname_psat, ts_dpsim_6bOrder, ts_psat_6Order, nominal_values, ylabels)"
   ]
  },
  {
   "cell_type": "markdown",
   "id": "literary-bracket",
   "metadata": {},
   "source": [
    "### Field Voltage"
   ]
  },
  {
   "cell_type": "code",
   "execution_count": null,
   "id": "criminal-windsor",
   "metadata": {},
   "outputs": [],
   "source": [
    "varname_dpsim = \"Vf\"\n",
    "varname_psat = \"vf\"\n",
    "\n",
    "rmse_vf = plot_variable(titles, varname_dpsim, varname_psat, ts_dpsim_6bOrder, ts_psat_6Order, nominal_values, ylabels)"
   ]
  },
  {
   "cell_type": "markdown",
   "id": "express-pixel",
   "metadata": {},
   "source": [
    "### $V_d$"
   ]
  },
  {
   "cell_type": "code",
   "execution_count": null,
   "id": "racial-suspension",
   "metadata": {},
   "outputs": [],
   "source": [
    "varname_dpsim = \"Vdq0_0\"\n",
    "varname_psat = \"vd\"\n",
    "\n",
    "rmse_vd = plot_variable(titles, varname_dpsim, varname_psat, ts_dpsim_6bOrder, ts_psat_6Order, nominal_values, ylabels)"
   ]
  },
  {
   "cell_type": "markdown",
   "id": "invalid-vermont",
   "metadata": {},
   "source": [
    "### $V_q$"
   ]
  },
  {
   "cell_type": "code",
   "execution_count": null,
   "id": "buried-training",
   "metadata": {},
   "outputs": [],
   "source": [
    "varname_dpsim = \"Vdq0_1\"\n",
    "varname_psat = \"vq\"\n",
    "\n",
    "rmse_vq = plot_variable(titles, varname_dpsim, varname_psat, ts_dpsim_6bOrder, ts_psat_6Order, nominal_values, ylabels)"
   ]
  },
  {
   "cell_type": "markdown",
   "id": "secondary-cowboy",
   "metadata": {},
   "source": [
    "### $I_d$"
   ]
  },
  {
   "cell_type": "code",
   "execution_count": null,
   "id": "aware-laugh",
   "metadata": {},
   "outputs": [],
   "source": [
    "varname_dpsim = \"Idq0_0\"\n",
    "varname_psat = \"id\"\n",
    "\n",
    "rmse_id = plot_variable(titles, varname_dpsim, varname_psat, ts_dpsim_6bOrder, ts_psat_6Order, nominal_values, ylabels)"
   ]
  },
  {
   "cell_type": "markdown",
   "id": "excessive-seafood",
   "metadata": {},
   "source": [
    "### $I_q$"
   ]
  },
  {
   "cell_type": "code",
   "execution_count": null,
   "id": "balanced-annotation",
   "metadata": {},
   "outputs": [],
   "source": [
    "varname_dpsim = \"Idq0_1\"\n",
    "varname_psat = \"iq\"\n",
    "\n",
    "rmse_iq = plot_variable(titles, varname_dpsim, varname_psat, ts_dpsim_6bOrder, ts_psat_6Order, nominal_values, ylabels)"
   ]
  },
  {
   "cell_type": "markdown",
   "id": "studied-preparation",
   "metadata": {},
   "source": [
    "### Delta"
   ]
  },
  {
   "cell_type": "code",
   "execution_count": null,
   "id": "adaptive-drinking",
   "metadata": {},
   "outputs": [],
   "source": [
    "varname_dpsim = \"delta\"\n",
    "varname_psat = \"delta\"\n",
    "\n",
    "rmse_delta = plot_variable(titles, varname_dpsim, varname_psat, ts_dpsim_6bOrder, ts_psat_6Order, nominal_values, ylabels)"
   ]
  },
  {
   "cell_type": "markdown",
   "id": "designing-memorial",
   "metadata": {},
   "source": [
    "### Mechanical omega"
   ]
  },
  {
   "cell_type": "code",
   "execution_count": null,
   "id": "experienced-metropolitan",
   "metadata": {},
   "outputs": [],
   "source": [
    "varname_dpsim = \"w_r\"\n",
    "varname_psat = \"omega\"\n",
    "\n",
    "rmse_omega = plot_variable(titles, varname_dpsim, varname_psat, ts_dpsim_6bOrder, ts_psat_6Order, nominal_values, ylabels)"
   ]
  },
  {
   "cell_type": "markdown",
   "id": "cross-relationship",
   "metadata": {},
   "source": [
    "## Grid voltages"
   ]
  },
  {
   "cell_type": "code",
   "execution_count": null,
   "id": "upper-judges",
   "metadata": {},
   "outputs": [],
   "source": [
    "varname_dpsim = \"v1\"\n",
    "varname_psat = \"V_Bus1\"\n",
    "\n",
    "rmse_v1_abs = plot_node_volt_abs(varname_dpsim, varname_psat, ts_dpsim_6bOrder, ts_psat_6Order, nominal_grid_voltage, ylabels)"
   ]
  },
  {
   "cell_type": "code",
   "execution_count": null,
   "id": "distinguished-malpractice",
   "metadata": {},
   "outputs": [],
   "source": [
    "varname_dpsim = \"v1\"\n",
    "varname_psat = \"theta_bus1\"\n",
    "\n",
    "rmse_v1_angle = plot_node_volt_angle(varname_dpsim, varname_psat, ts_dpsim_6bOrder, ts_psat_6Order, nominal_grid_voltage, ylabels)"
   ]
  },
  {
   "cell_type": "code",
   "execution_count": null,
   "id": "egyptian-newspaper",
   "metadata": {},
   "outputs": [],
   "source": [
    "varname_dpsim = \"v2\"\n",
    "varname_psat = \"V_Bus3\"\n",
    "\n",
    "rmse_v2_abs = plot_node_volt_abs(varname_dpsim, varname_psat, ts_dpsim_6bOrder, ts_psat_6Order, nominal_grid_voltage, ylabels)"
   ]
  },
  {
   "cell_type": "code",
   "execution_count": null,
   "id": "mobile-grant",
   "metadata": {},
   "outputs": [],
   "source": [
    "varname_dpsim = \"v2\"\n",
    "varname_psat = \"theta_bus3\"\n",
    "\n",
    "rmse_v2_angle = plot_node_volt_angle(varname_dpsim, varname_psat, ts_dpsim_6bOrder, ts_psat_6Order, nominal_grid_voltage, ylabels)"
   ]
  },
  {
   "cell_type": "markdown",
   "id": "metropolitan-argentina",
   "metadata": {},
   "source": [
    "### Assert"
   ]
  },
  {
   "cell_type": "code",
   "execution_count": null,
   "id": "centered-thumb",
   "metadata": {},
   "outputs": [],
   "source": [
    "tol = 2 #%\n",
    "tol_i = 8\n",
    "tol_deg_v1 = 0.2 # deg\n",
    "tol_deg_v2 = 1e-12 # deg\n",
    "\n",
    "assert(rmse_torque<tol)\n",
    "assert(rmse_vf<tol)\n",
    "assert(rmse_vd<tol)\n",
    "assert(rmse_vq<tol)\n",
    "assert(rmse_id<tol_i)\n",
    "assert(rmse_iq<tol_i)\n",
    "assert(rmse_delta<tol)\n",
    "assert(rmse_omega<tol)\n",
    "assert(rmse_v1_abs<tol)\n",
    "assert(rmse_v2_abs<tol)\n",
    "#assert(rmse_v1_angle<tol_deg_v1)\n",
    "assert(rmse_v2_angle<tol_deg_v2)"
   ]
  },
  {
   "cell_type": "code",
   "execution_count": null,
   "id": "limited-masters",
   "metadata": {},
   "outputs": [],
   "source": []
  },
  {
   "cell_type": "code",
   "execution_count": null,
   "id": "eleven-provision",
   "metadata": {},
   "outputs": [],
   "source": []
  },
  {
   "cell_type": "code",
   "execution_count": null,
   "id": "pleasant-cylinder",
   "metadata": {},
   "outputs": [],
   "source": []
  }
 ],
 "metadata": {
  "kernelspec": {
   "display_name": "Python 3",
   "language": "python",
   "name": "python3"
  },
  "language_info": {
   "codemirror_mode": {
    "name": "ipython",
    "version": 3
   },
   "file_extension": ".py",
   "mimetype": "text/x-python",
   "name": "python",
   "nbconvert_exporter": "python",
   "pygments_lexer": "ipython3",
   "version": "3.8.10"
  }
 },
 "nbformat": 4,
 "nbformat_minor": 5
}
